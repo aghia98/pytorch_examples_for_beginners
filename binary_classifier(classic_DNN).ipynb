{
 "cells": [
  {
   "cell_type": "markdown",
   "metadata": {
    "id": "LKaEwNuSH84K"
   },
   "source": [
    "## **Read the data and visualize its general structure**"
   ]
  },
  {
   "cell_type": "code",
   "execution_count": 2,
   "metadata": {
    "colab": {
     "base_uri": "https://localhost:8080/",
     "height": 527
    },
    "id": "PSgKmnskzPnT",
    "outputId": "1d0fe16c-d30a-4157-f55c-1a0a4cb85d2b"
   },
   "outputs": [
    {
     "name": "stdout",
     "output_type": "stream",
     "text": [
      "<class 'pandas.core.frame.DataFrame'>\n",
      "RangeIndex: 891 entries, 0 to 890\n",
      "Data columns (total 12 columns):\n",
      " #   Column       Non-Null Count  Dtype  \n",
      "---  ------       --------------  -----  \n",
      " 0   PassengerId  891 non-null    int64  \n",
      " 1   Survived     891 non-null    int64  \n",
      " 2   Pclass       891 non-null    int64  \n",
      " 3   Name         891 non-null    object \n",
      " 4   Sex          891 non-null    object \n",
      " 5   Age          714 non-null    float64\n",
      " 6   SibSp        891 non-null    int64  \n",
      " 7   Parch        891 non-null    int64  \n",
      " 8   Ticket       891 non-null    object \n",
      " 9   Fare         891 non-null    float64\n",
      " 10  Cabin        204 non-null    object \n",
      " 11  Embarked     889 non-null    object \n",
      "dtypes: float64(2), int64(5), object(5)\n",
      "memory usage: 83.7+ KB\n"
     ]
    },
    {
     "data": {
      "text/html": [
       "<div>\n",
       "<style scoped>\n",
       "    .dataframe tbody tr th:only-of-type {\n",
       "        vertical-align: middle;\n",
       "    }\n",
       "\n",
       "    .dataframe tbody tr th {\n",
       "        vertical-align: top;\n",
       "    }\n",
       "\n",
       "    .dataframe thead th {\n",
       "        text-align: right;\n",
       "    }\n",
       "</style>\n",
       "<table border=\"1\" class=\"dataframe\">\n",
       "  <thead>\n",
       "    <tr style=\"text-align: right;\">\n",
       "      <th></th>\n",
       "      <th>PassengerId</th>\n",
       "      <th>Survived</th>\n",
       "      <th>Pclass</th>\n",
       "      <th>Name</th>\n",
       "      <th>Sex</th>\n",
       "      <th>Age</th>\n",
       "      <th>SibSp</th>\n",
       "      <th>Parch</th>\n",
       "      <th>Ticket</th>\n",
       "      <th>Fare</th>\n",
       "      <th>Cabin</th>\n",
       "      <th>Embarked</th>\n",
       "    </tr>\n",
       "  </thead>\n",
       "  <tbody>\n",
       "    <tr>\n",
       "      <th>0</th>\n",
       "      <td>1</td>\n",
       "      <td>0</td>\n",
       "      <td>3</td>\n",
       "      <td>Braund, Mr. Owen Harris</td>\n",
       "      <td>male</td>\n",
       "      <td>22.0</td>\n",
       "      <td>1</td>\n",
       "      <td>0</td>\n",
       "      <td>A/5 21171</td>\n",
       "      <td>7.2500</td>\n",
       "      <td>NaN</td>\n",
       "      <td>S</td>\n",
       "    </tr>\n",
       "    <tr>\n",
       "      <th>1</th>\n",
       "      <td>2</td>\n",
       "      <td>1</td>\n",
       "      <td>1</td>\n",
       "      <td>Cumings, Mrs. John Bradley (Florence Briggs Th...</td>\n",
       "      <td>female</td>\n",
       "      <td>38.0</td>\n",
       "      <td>1</td>\n",
       "      <td>0</td>\n",
       "      <td>PC 17599</td>\n",
       "      <td>71.2833</td>\n",
       "      <td>C85</td>\n",
       "      <td>C</td>\n",
       "    </tr>\n",
       "    <tr>\n",
       "      <th>2</th>\n",
       "      <td>3</td>\n",
       "      <td>1</td>\n",
       "      <td>3</td>\n",
       "      <td>Heikkinen, Miss. Laina</td>\n",
       "      <td>female</td>\n",
       "      <td>26.0</td>\n",
       "      <td>0</td>\n",
       "      <td>0</td>\n",
       "      <td>STON/O2. 3101282</td>\n",
       "      <td>7.9250</td>\n",
       "      <td>NaN</td>\n",
       "      <td>S</td>\n",
       "    </tr>\n",
       "    <tr>\n",
       "      <th>3</th>\n",
       "      <td>4</td>\n",
       "      <td>1</td>\n",
       "      <td>1</td>\n",
       "      <td>Futrelle, Mrs. Jacques Heath (Lily May Peel)</td>\n",
       "      <td>female</td>\n",
       "      <td>35.0</td>\n",
       "      <td>1</td>\n",
       "      <td>0</td>\n",
       "      <td>113803</td>\n",
       "      <td>53.1000</td>\n",
       "      <td>C123</td>\n",
       "      <td>S</td>\n",
       "    </tr>\n",
       "    <tr>\n",
       "      <th>4</th>\n",
       "      <td>5</td>\n",
       "      <td>0</td>\n",
       "      <td>3</td>\n",
       "      <td>Allen, Mr. William Henry</td>\n",
       "      <td>male</td>\n",
       "      <td>35.0</td>\n",
       "      <td>0</td>\n",
       "      <td>0</td>\n",
       "      <td>373450</td>\n",
       "      <td>8.0500</td>\n",
       "      <td>NaN</td>\n",
       "      <td>S</td>\n",
       "    </tr>\n",
       "  </tbody>\n",
       "</table>\n",
       "</div>"
      ],
      "text/plain": [
       "   PassengerId  Survived  Pclass  ...     Fare Cabin  Embarked\n",
       "0            1         0       3  ...   7.2500   NaN         S\n",
       "1            2         1       1  ...  71.2833   C85         C\n",
       "2            3         1       3  ...   7.9250   NaN         S\n",
       "3            4         1       1  ...  53.1000  C123         S\n",
       "4            5         0       3  ...   8.0500   NaN         S\n",
       "\n",
       "[5 rows x 12 columns]"
      ]
     },
     "execution_count": 2,
     "metadata": {
      "tags": []
     },
     "output_type": "execute_result"
    }
   ],
   "source": [
    "import pandas as pd\n",
    "import torch\n",
    "\n",
    "data_frame=pd.read_csv(\"titanic.csv\")\n",
    "data_frame.info()\n",
    "data_frame.head()\n",
    "\"\"\"\n",
    "we consider 'Survived' feature as our target feature\n",
    "\"\"\""
   ]
  },
  {
   "cell_type": "markdown",
   "metadata": {
    "id": "oK49CzPYIcs_"
   },
   "source": [
    "## **Remove non significant columns and rows with missing cells**"
   ]
  },
  {
   "cell_type": "code",
   "execution_count": 3,
   "metadata": {
    "colab": {
     "base_uri": "https://localhost:8080/",
     "height": 204
    },
    "id": "Rqw0k06uz2Bo",
    "outputId": "a39d1eef-b89f-4908-dfbb-951a26ae18f1"
   },
   "outputs": [
    {
     "data": {
      "text/html": [
       "<div>\n",
       "<style scoped>\n",
       "    .dataframe tbody tr th:only-of-type {\n",
       "        vertical-align: middle;\n",
       "    }\n",
       "\n",
       "    .dataframe tbody tr th {\n",
       "        vertical-align: top;\n",
       "    }\n",
       "\n",
       "    .dataframe thead th {\n",
       "        text-align: right;\n",
       "    }\n",
       "</style>\n",
       "<table border=\"1\" class=\"dataframe\">\n",
       "  <thead>\n",
       "    <tr style=\"text-align: right;\">\n",
       "      <th></th>\n",
       "      <th>Survived</th>\n",
       "      <th>Pclass</th>\n",
       "      <th>Sex</th>\n",
       "      <th>Age</th>\n",
       "      <th>SibSp</th>\n",
       "      <th>Parch</th>\n",
       "      <th>Fare</th>\n",
       "      <th>Embarked</th>\n",
       "    </tr>\n",
       "  </thead>\n",
       "  <tbody>\n",
       "    <tr>\n",
       "      <th>0</th>\n",
       "      <td>0</td>\n",
       "      <td>3</td>\n",
       "      <td>male</td>\n",
       "      <td>22.0</td>\n",
       "      <td>1</td>\n",
       "      <td>0</td>\n",
       "      <td>7.2500</td>\n",
       "      <td>S</td>\n",
       "    </tr>\n",
       "    <tr>\n",
       "      <th>1</th>\n",
       "      <td>1</td>\n",
       "      <td>1</td>\n",
       "      <td>female</td>\n",
       "      <td>38.0</td>\n",
       "      <td>1</td>\n",
       "      <td>0</td>\n",
       "      <td>71.2833</td>\n",
       "      <td>C</td>\n",
       "    </tr>\n",
       "    <tr>\n",
       "      <th>2</th>\n",
       "      <td>1</td>\n",
       "      <td>3</td>\n",
       "      <td>female</td>\n",
       "      <td>26.0</td>\n",
       "      <td>0</td>\n",
       "      <td>0</td>\n",
       "      <td>7.9250</td>\n",
       "      <td>S</td>\n",
       "    </tr>\n",
       "    <tr>\n",
       "      <th>3</th>\n",
       "      <td>1</td>\n",
       "      <td>1</td>\n",
       "      <td>female</td>\n",
       "      <td>35.0</td>\n",
       "      <td>1</td>\n",
       "      <td>0</td>\n",
       "      <td>53.1000</td>\n",
       "      <td>S</td>\n",
       "    </tr>\n",
       "    <tr>\n",
       "      <th>4</th>\n",
       "      <td>0</td>\n",
       "      <td>3</td>\n",
       "      <td>male</td>\n",
       "      <td>35.0</td>\n",
       "      <td>0</td>\n",
       "      <td>0</td>\n",
       "      <td>8.0500</td>\n",
       "      <td>S</td>\n",
       "    </tr>\n",
       "  </tbody>\n",
       "</table>\n",
       "</div>"
      ],
      "text/plain": [
       "   Survived  Pclass     Sex   Age  SibSp  Parch     Fare Embarked\n",
       "0         0       3    male  22.0      1      0   7.2500        S\n",
       "1         1       1  female  38.0      1      0  71.2833        C\n",
       "2         1       3  female  26.0      0      0   7.9250        S\n",
       "3         1       1  female  35.0      1      0  53.1000        S\n",
       "4         0       3    male  35.0      0      0   8.0500        S"
      ]
     },
     "execution_count": 3,
     "metadata": {
      "tags": []
     },
     "output_type": "execute_result"
    }
   ],
   "source": [
    "data_frame=data_frame.drop(columns=['PassengerId','Ticket','Cabin','Name']) #remove insignificant column\n",
    "data_frame=data_frame.dropna() #remove rows with empty cells\n",
    "data_frame.head()"
   ]
  },
  {
   "cell_type": "markdown",
   "metadata": {
    "id": "AtpFRdBFIoym"
   },
   "source": [
    "## **Encode String columns with numbers (Label encoding)**"
   ]
  },
  {
   "cell_type": "code",
   "execution_count": 4,
   "metadata": {
    "colab": {
     "base_uri": "https://localhost:8080/",
     "height": 204
    },
    "id": "HxeIPgrp3Eip",
    "outputId": "706f5165-bb0e-4e29-e48e-ff88811d7ebe"
   },
   "outputs": [
    {
     "data": {
      "text/html": [
       "<div>\n",
       "<style scoped>\n",
       "    .dataframe tbody tr th:only-of-type {\n",
       "        vertical-align: middle;\n",
       "    }\n",
       "\n",
       "    .dataframe tbody tr th {\n",
       "        vertical-align: top;\n",
       "    }\n",
       "\n",
       "    .dataframe thead th {\n",
       "        text-align: right;\n",
       "    }\n",
       "</style>\n",
       "<table border=\"1\" class=\"dataframe\">\n",
       "  <thead>\n",
       "    <tr style=\"text-align: right;\">\n",
       "      <th></th>\n",
       "      <th>Survived</th>\n",
       "      <th>Pclass</th>\n",
       "      <th>Age</th>\n",
       "      <th>SibSp</th>\n",
       "      <th>Parch</th>\n",
       "      <th>Fare</th>\n",
       "      <th>Sex</th>\n",
       "      <th>Embarked</th>\n",
       "    </tr>\n",
       "  </thead>\n",
       "  <tbody>\n",
       "    <tr>\n",
       "      <th>0</th>\n",
       "      <td>0</td>\n",
       "      <td>3</td>\n",
       "      <td>22.0</td>\n",
       "      <td>1</td>\n",
       "      <td>0</td>\n",
       "      <td>7.2500</td>\n",
       "      <td>1</td>\n",
       "      <td>2</td>\n",
       "    </tr>\n",
       "    <tr>\n",
       "      <th>1</th>\n",
       "      <td>1</td>\n",
       "      <td>1</td>\n",
       "      <td>38.0</td>\n",
       "      <td>1</td>\n",
       "      <td>0</td>\n",
       "      <td>71.2833</td>\n",
       "      <td>0</td>\n",
       "      <td>0</td>\n",
       "    </tr>\n",
       "    <tr>\n",
       "      <th>2</th>\n",
       "      <td>1</td>\n",
       "      <td>3</td>\n",
       "      <td>26.0</td>\n",
       "      <td>0</td>\n",
       "      <td>0</td>\n",
       "      <td>7.9250</td>\n",
       "      <td>0</td>\n",
       "      <td>2</td>\n",
       "    </tr>\n",
       "    <tr>\n",
       "      <th>3</th>\n",
       "      <td>1</td>\n",
       "      <td>1</td>\n",
       "      <td>35.0</td>\n",
       "      <td>1</td>\n",
       "      <td>0</td>\n",
       "      <td>53.1000</td>\n",
       "      <td>0</td>\n",
       "      <td>2</td>\n",
       "    </tr>\n",
       "    <tr>\n",
       "      <th>4</th>\n",
       "      <td>0</td>\n",
       "      <td>3</td>\n",
       "      <td>35.0</td>\n",
       "      <td>0</td>\n",
       "      <td>0</td>\n",
       "      <td>8.0500</td>\n",
       "      <td>1</td>\n",
       "      <td>2</td>\n",
       "    </tr>\n",
       "  </tbody>\n",
       "</table>\n",
       "</div>"
      ],
      "text/plain": [
       "   Survived  Pclass   Age  SibSp  Parch     Fare  Sex  Embarked\n",
       "0         0       3  22.0      1      0   7.2500    1         2\n",
       "1         1       1  38.0      1      0  71.2833    0         0\n",
       "2         1       3  26.0      0      0   7.9250    0         2\n",
       "3         1       1  35.0      1      0  53.1000    0         2\n",
       "4         0       3  35.0      0      0   8.0500    1         2"
      ]
     },
     "execution_count": 4,
     "metadata": {
      "tags": []
     },
     "output_type": "execute_result"
    }
   ],
   "source": [
    "from sklearn import preprocessing as pprocess\n",
    "\n",
    "le=pprocess.LabelEncoder() #encoder object\n",
    "\n",
    "le.fit(data_frame['Sex'].unique()) #result ==> 0: female | 1: male\n",
    "Sex_encoded=le.transform(data_frame['Sex'].values)\n",
    "\n",
    "le.fit(data_frame['Embarked'].unique()) #result ==> 0: C | 1: Q |2: S\n",
    "Embarked_encoded=le.transform(data_frame['Embarked'].values)\n",
    "\n",
    "data_frame=data_frame.drop(columns=['Sex','Embarked']) #remove old columns\n",
    "data_frame['Sex'],data_frame['Embarked']=Sex_encoded, Embarked_encoded #place encoded ones\n",
    "data_frame.head()"
   ]
  },
  {
   "cell_type": "markdown",
   "metadata": {
    "id": "SHOE9xvVI88M"
   },
   "source": [
    "## **Split the dataset into training and test data (ratio: 80%/20%)**"
   ]
  },
  {
   "cell_type": "code",
   "execution_count": 5,
   "metadata": {
    "id": "NEYBCdEZJXsq"
   },
   "outputs": [],
   "source": [
    "from sklearn.model_selection import train_test_split\n",
    "\n",
    "train,test= train_test_split(data_frame, test_size=0.2, stratify=data_frame['Survived'])\n",
    "#stratify=data_frame['Survived'] means that the proportion of survivors will be the same in train set and test set"
   ]
  },
  {
   "cell_type": "markdown",
   "metadata": {
    "id": "XLu2AQQdJeJZ"
   },
   "source": [
    "## **Good practice: make the data overwrite Pytorch Dataset class to simplify some operations**"
   ]
  },
  {
   "cell_type": "code",
   "execution_count": 6,
   "metadata": {
    "id": "uDdRIKG-95BL"
   },
   "outputs": [],
   "source": [
    "from torch.utils.data import Dataset\n",
    "\n",
    "class Titanic_train_dataset(Dataset): #All datasets that represent a map from keys to data samples should inherit from Dataset Class\n",
    "    def __init__(self, train):\n",
    "        self.train=train\n",
    "        self.inputs=train.iloc[:,1:].values\n",
    "        self.outputs=train.iloc[:,0].values #we consider 'Survived' as output\n",
    "\n",
    "    def __len__(self):\n",
    "          return len(self.inputs)\n",
    "\n",
    "    def __getitem__(self, idx): #we must overwrite it\n",
    "        return {'input': torch.tensor(self.inputs[idx]), \n",
    "                'output': torch.tensor(self.outputs[idx])\n",
    "                } #return in tensor form to feed the network model\n",
    "\n",
    "train= Titanic_train_dataset(train)"
   ]
  },
  {
   "cell_type": "markdown",
   "metadata": {
    "id": "GqHuH3C8Kjx1"
   },
   "source": [
    "## **Separate the data into batches**"
   ]
  },
  {
   "cell_type": "code",
   "execution_count": 8,
   "metadata": {
    "id": "Yr6ypE7P7DQR"
   },
   "outputs": [],
   "source": [
    "from torch.utils.data import DataLoader\n",
    "\n",
    "BATCH_SIZE=16\n",
    "batched_train=DataLoader(dataset = train, batch_size = BATCH_SIZE, shuffle =False) #automatically separate training data into batches"
   ]
  },
  {
   "cell_type": "markdown",
   "metadata": {
    "id": "JGmw0XkuKrdT"
   },
   "source": [
    "## **Neural network structure**"
   ]
  },
  {
   "cell_type": "code",
   "execution_count": 54,
   "metadata": {
    "id": "60HV28f4KxWS"
   },
   "outputs": [],
   "source": [
    "import torch.nn as nn\n",
    "#import torch.nn.functional as F\n",
    "\n",
    "class Network(nn.Module): \n",
    "      def __init__(self):\n",
    "          # we define the network layer by layer\n",
    "          # almost all Linear layers take as parameters: input size (nuumer of neurons on previous layer), output size (number of neurons on next layer)\n",
    "        super().__init__()\n",
    "\n",
    "        self.fc1=nn.Linear(7, 16) # Linear layers do W*X+b\n",
    "        self.bn1=nn.BatchNorm1d(16)  #apparently, it speeds the training\n",
    "        self.relu1=nn.ReLU() #activation function\n",
    "\n",
    "        self.fc2=nn.Linear(16,8)\n",
    "        self.bn2=nn.BatchNorm1d(8)\n",
    "        self.relu2=nn.ReLU()\n",
    "\n",
    "        self.fc3=nn.Linear(8,4)\n",
    "        self.bn3=nn.BatchNorm1d(4)\n",
    "        self.relu3=nn.ReLU()\n",
    "\n",
    "        self.fc4=nn.Linear(4,1)\n",
    "        self.sigmoid=nn.Sigmoid() #to give us a probability of having survived\n",
    "  \n",
    "      def forward(self,x): #forwarding the data from input layer to output layer\n",
    "        x=self.fc1(x)\n",
    "        x=self.bn1(x)\n",
    "        x=self.relu1(x)\n",
    "\n",
    "        x=self.fc2(x)\n",
    "        x=self.bn2(x)\n",
    "        x=self.relu2(x)\n",
    "\n",
    "        x=self.fc3(x)\n",
    "        x=self.bn3(x)\n",
    "        x=self.relu3(x)\n",
    "\n",
    "        x=self.fc4(x)\n",
    "        x=self.sigmoid(x)\n",
    "\n",
    "        return x\n",
    "\n",
    "model=Network()"
   ]
  },
  {
   "cell_type": "markdown",
   "metadata": {
    "id": "PGdummTORwfF"
   },
   "source": [
    "## **Defining one iteration of the training process**"
   ]
  },
  {
   "cell_type": "code",
   "execution_count": 55,
   "metadata": {
    "id": "2GndjtoiRMC5"
   },
   "outputs": [],
   "source": [
    "def train(model, x, y, optimizer, criterion):\n",
    "\n",
    "    model.zero_grad() # initialize the gradients to 0\n",
    "\n",
    "    x=x.to(torch.float32) # needed format\n",
    "    output = model(x) # forward propagation (outputs probability of having survived)\n",
    "\n",
    "    output=output.reshape(-1) #to make the output shape go from [dim_x,1] to [dim_x]...To avoid an error relative to dimension in next step\n",
    "    output=output.to(torch.float32)\n",
    "    y=y.to(torch.float32)\n",
    "\n",
    "    loss= criterion(output,y) # calculating the loss value\n",
    "    loss.backward() # backward propagation to calculate gradients\n",
    "    \n",
    "    optimizer.step() # update parameters with gradients\n",
    "    \n",
    "    return loss, output"
   ]
  },
  {
   "cell_type": "markdown",
   "metadata": {
    "id": "cXqVNOj8TcSC"
   },
   "source": [
    "## **Defining hyperparameters and loss function method**"
   ]
  },
  {
   "cell_type": "code",
   "execution_count": 56,
   "metadata": {
    "id": "f6mZpjcUTkF2"
   },
   "outputs": [],
   "source": [
    "from torch.optim import Adam #The choice of optimizer algorithm is empirical (Adam works well here)\n",
    "\n",
    "criterion = nn.MSELoss() #create object that has loss function method\n",
    "EPOCHS = 200 #number of iterations\n",
    "optm = Adam(model.parameters(), lr = 0.001) #optimization_method(model_parameters, learning_rate)"
   ]
  },
  {
   "cell_type": "markdown",
   "metadata": {
    "id": "N5EFEwHKV76H"
   },
   "source": [
    "## **Optionnal: trying to use the GPU**"
   ]
  },
  {
   "cell_type": "code",
   "execution_count": 57,
   "metadata": {
    "colab": {
     "base_uri": "https://localhost:8080/"
    },
    "id": "Dqcjq0OdWGVV",
    "outputId": "3bc17bd9-f2cb-4d14-baa8-2210add77cf8"
   },
   "outputs": [
    {
     "name": "stdout",
     "output_type": "stream",
     "text": [
      "Cuda Device Available\n",
      "Name of the Cuda Device:  Tesla T4\n",
      "GPU Computational Capablity:  (7, 5)\n"
     ]
    }
   ],
   "source": [
    "if torch.cuda.is_available():\n",
    "    device = torch.device(\"cuda:0\")\n",
    "    print(\"Cuda Device Available\")\n",
    "    print(\"Name of the Cuda Device: \", torch.cuda.get_device_name())\n",
    "    print(\"GPU Computational Capablity: \", torch.cuda.get_device_capability())"
   ]
  },
  {
   "cell_type": "markdown",
   "metadata": {
    "id": "jC_O9EXsWLQl"
   },
   "source": [
    "## **Launch the training process**"
   ]
  },
  {
   "cell_type": "code",
   "execution_count": 58,
   "metadata": {
    "colab": {
     "base_uri": "https://localhost:8080/"
    },
    "id": "JSEJsp2YWKdc",
    "outputId": "1ee5a938-1721-4875-cad3-3578e51b4fad"
   },
   "outputs": [
    {
     "name": "stdout",
     "output_type": "stream",
     "text": [
      "loss:  0.26513558626174927\n",
      "loss:  0.25787508487701416\n",
      "loss:  0.2427477389574051\n",
      "loss:  0.23950304090976715\n",
      "loss:  0.23775076866149902\n",
      "loss:  0.23063193261623383\n",
      "loss:  0.2331971675157547\n",
      "loss:  0.2277664691209793\n",
      "loss:  0.22687676548957825\n",
      "loss:  0.2280125617980957\n",
      "loss:  0.22061045467853546\n",
      "loss:  0.21470659971237183\n",
      "loss:  0.21055357158184052\n",
      "loss:  0.20841526985168457\n",
      "loss:  0.20767368376255035\n",
      "loss:  0.22008968889713287\n",
      "loss:  0.20880325138568878\n",
      "loss:  0.22980369627475739\n",
      "loss:  0.22274358570575714\n",
      "loss:  0.21794311702251434\n",
      "loss:  0.22299793362617493\n",
      "loss:  0.21635156869888306\n",
      "loss:  0.21516045928001404\n",
      "loss:  0.20748241245746613\n",
      "loss:  0.211456298828125\n",
      "loss:  0.2109559178352356\n",
      "loss:  0.20875197649002075\n",
      "loss:  0.2067839652299881\n",
      "loss:  0.2244202345609665\n",
      "loss:  0.20307739078998566\n",
      "loss:  0.24503786861896515\n",
      "loss:  0.21692419052124023\n",
      "loss:  0.21669520437717438\n",
      "loss:  0.23795635998249054\n",
      "loss:  0.19991528987884521\n",
      "loss:  0.2166547030210495\n",
      "loss:  0.21252135932445526\n",
      "loss:  0.20380033552646637\n",
      "loss:  0.21153923869132996\n",
      "loss:  0.1970975399017334\n",
      "loss:  0.1830485314130783\n",
      "loss:  0.18607906997203827\n",
      "loss:  0.180768683552742\n",
      "loss:  0.17106421291828156\n",
      "loss:  0.1618151217699051\n",
      "loss:  0.17227661609649658\n",
      "loss:  0.15993428230285645\n",
      "loss:  0.15495292842388153\n",
      "loss:  0.16496658325195312\n",
      "loss:  0.15048204362392426\n",
      "loss:  0.1379871368408203\n",
      "loss:  0.14126820862293243\n",
      "loss:  0.13617466390132904\n",
      "loss:  0.1397075653076172\n",
      "loss:  0.14645083248615265\n",
      "loss:  0.14711037278175354\n",
      "loss:  0.1417442411184311\n",
      "loss:  0.13154466450214386\n",
      "loss:  0.13095098733901978\n",
      "loss:  0.12840788066387177\n",
      "loss:  0.12648284435272217\n",
      "loss:  0.13050641119480133\n",
      "loss:  0.1282181292772293\n",
      "loss:  0.15510399639606476\n",
      "loss:  0.11892613023519516\n",
      "loss:  0.12285111844539642\n",
      "loss:  0.12442288547754288\n",
      "loss:  0.12634889781475067\n",
      "loss:  0.12306947261095047\n",
      "loss:  0.1259513646364212\n",
      "loss:  0.12147720903158188\n",
      "loss:  0.12793274223804474\n",
      "loss:  0.15087687969207764\n",
      "loss:  0.1487947553396225\n",
      "loss:  0.15002472698688507\n",
      "loss:  0.13337866961956024\n",
      "loss:  0.10744401812553406\n",
      "loss:  0.1508270502090454\n",
      "loss:  0.11948653310537338\n",
      "loss:  0.10274306684732437\n",
      "loss:  0.11557573825120926\n",
      "loss:  0.11267537623643875\n",
      "loss:  0.10107318311929703\n",
      "loss:  0.0976775661110878\n",
      "loss:  0.09977163374423981\n",
      "loss:  0.09783245623111725\n",
      "loss:  0.10232898592948914\n",
      "loss:  0.09692461043596268\n",
      "loss:  0.13240428268909454\n",
      "loss:  0.11496255546808243\n",
      "loss:  0.10339951515197754\n",
      "loss:  0.08884726464748383\n",
      "loss:  0.08770751953125\n",
      "loss:  0.10337110608816147\n",
      "loss:  0.09542349725961685\n",
      "loss:  0.08995310217142105\n",
      "loss:  0.14819592237472534\n",
      "loss:  0.09717730432748795\n",
      "loss:  0.09666002541780472\n",
      "loss:  0.1051977127790451\n",
      "loss:  0.09324292838573456\n",
      "loss:  0.08639100939035416\n",
      "loss:  0.10163090378046036\n",
      "loss:  0.09008433669805527\n",
      "loss:  0.10650794953107834\n",
      "loss:  0.10500413924455643\n",
      "loss:  0.08623776584863663\n",
      "loss:  0.08688459545373917\n",
      "loss:  0.10161241888999939\n",
      "loss:  0.08213555067777634\n",
      "loss:  0.10902396589517593\n",
      "loss:  0.10217968374490738\n",
      "loss:  0.1175161749124527\n",
      "loss:  0.0863182321190834\n",
      "loss:  0.07055426388978958\n",
      "loss:  0.11261513829231262\n",
      "loss:  0.0740051418542862\n",
      "loss:  0.09886471182107925\n",
      "loss:  0.07708696275949478\n",
      "loss:  0.06407086551189423\n",
      "loss:  0.10313013941049576\n",
      "loss:  0.07533379644155502\n",
      "loss:  0.08204255998134613\n",
      "loss:  0.0924740806221962\n",
      "loss:  0.07318460196256638\n",
      "loss:  0.07461363822221756\n",
      "loss:  0.09878505766391754\n",
      "loss:  0.08107482641935349\n",
      "loss:  0.05954428017139435\n",
      "loss:  0.08965996652841568\n",
      "loss:  0.07765523344278336\n",
      "loss:  0.08890232443809509\n",
      "loss:  0.08004211634397507\n",
      "loss:  0.06716859340667725\n",
      "loss:  0.08666134625673294\n",
      "loss:  0.09122063219547272\n",
      "loss:  0.09193786233663559\n",
      "loss:  0.06373031437397003\n",
      "loss:  0.07235387712717056\n",
      "loss:  0.11751973628997803\n",
      "loss:  0.07864753156900406\n",
      "loss:  0.15357176959514618\n",
      "loss:  0.0727599710226059\n",
      "loss:  0.09097281843423843\n",
      "loss:  0.10090066492557526\n",
      "loss:  0.08938933163881302\n",
      "loss:  0.07468876987695694\n",
      "loss:  0.07369718700647354\n",
      "loss:  0.07610855251550674\n",
      "loss:  0.12775687873363495\n",
      "loss:  0.07240820676088333\n",
      "loss:  0.0674520879983902\n",
      "loss:  0.08813773095607758\n",
      "loss:  0.06323549896478653\n",
      "loss:  0.0742587000131607\n",
      "loss:  0.06411301344633102\n",
      "loss:  0.05654134973883629\n",
      "loss:  0.06972949951887131\n",
      "loss:  0.07738343626260757\n",
      "loss:  0.054721079766750336\n",
      "loss:  0.06296923756599426\n",
      "loss:  0.07326414436101913\n",
      "loss:  0.05598462373018265\n",
      "loss:  0.06068338826298714\n",
      "loss:  0.04651155322790146\n",
      "loss:  0.06413532793521881\n",
      "loss:  0.07845842093229294\n",
      "loss:  0.06479710340499878\n",
      "loss:  0.060032058507204056\n",
      "loss:  0.0614304356276989\n",
      "loss:  0.05315052345395088\n",
      "loss:  0.05417459458112717\n",
      "loss:  0.05143111199140549\n",
      "loss:  0.04194709286093712\n",
      "loss:  0.06991375237703323\n",
      "loss:  0.052951473742723465\n",
      "loss:  0.05154268443584442\n",
      "loss:  0.05871373414993286\n",
      "loss:  0.0894380584359169\n",
      "loss:  0.05663863196969032\n",
      "loss:  0.05391651391983032\n",
      "loss:  0.08172518759965897\n",
      "loss:  0.05200767144560814\n",
      "loss:  0.1230948269367218\n",
      "loss:  0.05528143048286438\n",
      "loss:  0.041635408997535706\n",
      "loss:  0.06944310665130615\n",
      "loss:  0.05546148493885994\n",
      "loss:  0.05012601986527443\n",
      "loss:  0.05055655911564827\n",
      "loss:  0.049216244369745255\n",
      "loss:  0.07512488216161728\n",
      "loss:  0.03909040987491608\n",
      "loss:  0.04651056230068207\n",
      "loss:  0.06610830873250961\n",
      "loss:  0.08170343190431595\n",
      "loss:  0.06298767775297165\n",
      "loss:  0.05321464315056801\n",
      "loss:  0.09781277179718018\n",
      "loss:  0.04673842713236809\n"
     ]
    }
   ],
   "source": [
    "for epoch in range(EPOCHS):\n",
    "    epoch_loss=0\n",
    "    for batch in batched_train: #feed the network with all the batches during one epoch\n",
    "        x,y= batch['input'],batch['output'] #get the current batch\n",
    "        x,y= x.to(device),y.to(device) # move it to current device (gpu if available)\n",
    "        model.to(device) #move the model to device\n",
    "        loss, prediction= train(model ,x ,y ,optm , criterion)\n",
    "        epoch_loss+= loss\n",
    "    print(\"loss: \",loss.item())\n",
    "    "
   ]
  },
  {
   "cell_type": "markdown",
   "metadata": {
    "id": "sbXgJI8lz3-m"
   },
   "source": [
    "## **Model Evaluation**"
   ]
  },
  {
   "cell_type": "code",
   "execution_count": 83,
   "metadata": {
    "colab": {
     "base_uri": "https://localhost:8080/"
    },
    "id": "k9WEdhW5zcrh",
    "outputId": "319db03e-2bdb-4b10-c17a-aaccaf26e3bd"
   },
   "outputs": [
    {
     "name": "stdout",
     "output_type": "stream",
     "text": [
      "              precision    recall  f1-score   support\n",
      "\n",
      "         0.0       0.82      0.88      0.85        85\n",
      "         1.0       0.81      0.72      0.76        58\n",
      "\n",
      "    accuracy                           0.82       143\n",
      "   macro avg       0.82      0.80      0.81       143\n",
      "weighted avg       0.82      0.82      0.82       143\n",
      "\n"
     ]
    }
   ],
   "source": [
    "from sklearn.metrics import classification_report as cr\n",
    "import numpy as np\n",
    "\n",
    "x_test, y_test = test.iloc[:,1:].values, test.iloc[:,0].values #extract test data values (without index)\n",
    "x_test, y_test = torch.tensor(x_test,dtype=torch.float32), torch.tensor(y_test,dtype=torch.float32) #convert to float32 tensor\n",
    "x_test, y_test = x_test.to(device), y_test.to(device) #move to specified device (gpu here)\n",
    "\n",
    "y_pred=model(x_test) #make prediction\n",
    "\n",
    "#optionnal: moving to cpu after the prediction to avoid errors while calling only-cpu functions (classification_report)\n",
    "y_pred=y_pred.cpu()\n",
    "y_test=y_test.cpu()\n",
    "\n",
    "#convert tensor to numpy\n",
    "y_pred=y_pred.detach().numpy().reshape(-1)\n",
    "y_test=y_test.detach().numpy()\n",
    "\n",
    "y_pred=np.where(y_pred<0.5, 0, 1)\n",
    "\n",
    "print(cr(y_true=y_test, y_pred=y_pred))\n",
    "\n",
    "\n"
   ]
  }
 ],
 "metadata": {
  "accelerator": "GPU",
  "colab": {
   "name": "binary_classifier(classic_DNN).ipynb",
   "provenance": [],
   "toc_visible": true
  },
  "kernelspec": {
   "display_name": "Python 3",
   "name": "python3"
  },
  "language_info": {
   "name": "python"
  }
 },
 "nbformat": 4,
 "nbformat_minor": 1
}
